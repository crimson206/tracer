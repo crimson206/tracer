{
 "cells": [
  {
   "cell_type": "markdown",
   "metadata": {},
   "source": [
    "## Summary\n",
    "\n",
    "`TraceManager` collects all the called functions with useful information. <br/>\n",
    "The information includes the inputs to the called functions.\n"
   ]
  },
  {
   "cell_type": "markdown",
   "metadata": {},
   "source": [
    "# Body\n"
   ]
  },
  {
   "cell_type": "markdown",
   "metadata": {},
   "source": [
    "You can check the code of `script` in the link:\n",
    "\n",
    "[script.py](./script.py)"
   ]
  },
  {
   "cell_type": "code",
   "execution_count": 1,
   "metadata": {},
   "outputs": [],
   "source": [
    "from script import lvl1\n",
    "from inspect import getsource\n",
    "from crimson.tracer.filter import FrameFilter\n",
    "from crimson.tracer import TraceManager, TraceEvent\n"
   ]
  },
  {
   "cell_type": "markdown",
   "metadata": {},
   "source": [
    "## Trace"
   ]
  },
  {
   "cell_type": "markdown",
   "metadata": {},
   "source": [
    "### Without `frame_filter`\n"
   ]
  },
  {
   "cell_type": "code",
   "execution_count": 2,
   "metadata": {},
   "outputs": [
    {
     "data": {
      "text/plain": [
       "[TraceEvent(function='lvl1', filename='/home/crimson/manager/crimson/tracer/example/script.py', lineno=8, event='call', arg=None, level=0, locals={}, custom=None),\n",
       " TraceEvent(function='lvl1', filename='/home/crimson/manager/crimson/tracer/example/script.py', lineno=13, event='line', arg=None, level=0, locals={}, custom=None),\n",
       " TraceEvent(function='__init__', filename='/home/crimson/miniconda3/envs/tracer/lib/python3.12/site-packages/anytree/node/node.py', lineno=74, event='call', arg=None, level=1, locals={'self': Node('/root'), 'name': 'root', 'parent': None, 'children': None, 'kwargs': {}}, custom=None),\n",
       " TraceEvent(function='__init__', filename='/home/crimson/miniconda3/envs/tracer/lib/python3.12/site-packages/anytree/node/node.py', lineno=75, event='line', arg=None, level=1, locals={}, custom=None),\n",
       " TraceEvent(function='__init__', filename='/home/crimson/miniconda3/envs/tracer/lib/python3.12/site-packages/anytree/node/node.py', lineno=76, event='line', arg=None, level=1, locals={}, custom=None),\n",
       " TraceEvent(function='__init__', filename='/home/crimson/miniconda3/envs/tracer/lib/python3.12/site-packages/anytree/node/node.py', lineno=77, event='line', arg=None, level=1, locals={}, custom=None),\n",
       " TraceEvent(function='parent', filename='/home/crimson/miniconda3/envs/tracer/lib/python3.12/site-packages/anytree/node/nodemixin.py', lineno=123, event='call', arg=None, level=2, locals={'self': Node('/root'), 'value': None}, custom=None),\n",
       " TraceEvent(function='parent', filename='/home/crimson/miniconda3/envs/tracer/lib/python3.12/site-packages/anytree/node/nodemixin.py', lineno=125, event='line', arg=None, level=2, locals={}, custom=None),\n",
       " TraceEvent(function='parent', filename='/home/crimson/miniconda3/envs/tracer/lib/python3.12/site-packages/anytree/node/nodemixin.py', lineno=128, event='line', arg=None, level=2, locals={}, custom=None),\n",
       " TraceEvent(function='parent', filename='/home/crimson/miniconda3/envs/tracer/lib/python3.12/site-packages/anytree/node/nodemixin.py', lineno=131, event='line', arg=None, level=2, locals={}, custom=None),\n",
       " TraceEvent(function='parent', filename='/home/crimson/miniconda3/envs/tracer/lib/python3.12/site-packages/anytree/node/nodemixin.py', lineno=132, event='line', arg=None, level=2, locals={}, custom=None),\n",
       " TraceEvent(function='parent', filename='/home/crimson/miniconda3/envs/tracer/lib/python3.12/site-packages/anytree/node/nodemixin.py', lineno=132, event='return', arg=None, level=2, locals={}, custom=None),\n",
       " TraceEvent(function='__init__', filename='/home/crimson/miniconda3/envs/tracer/lib/python3.12/site-packages/anytree/node/node.py', lineno=78, event='line', arg=None, level=1, locals={}, custom=None),\n",
       " TraceEvent(function='__init__', filename='/home/crimson/miniconda3/envs/tracer/lib/python3.12/site-packages/anytree/node/node.py', lineno=78, event='return', arg=None, level=1, locals={}, custom=None),\n",
       " TraceEvent(function='lvl1', filename='/home/crimson/manager/crimson/tracer/example/script.py', lineno=15, event='line', arg=None, level=0, locals={}, custom=None),\n",
       " TraceEvent(function='lvl2_1', filename='/home/crimson/manager/crimson/tracer/example/script.py', lineno=25, event='call', arg=None, level=1, locals={}, custom=None),\n",
       " TraceEvent(function='lvl2_1', filename='/home/crimson/manager/crimson/tracer/example/script.py', lineno=31, event='line', arg=None, level=1, locals={}, custom=None),\n",
       " TraceEvent(function='lvl2_1', filename='/home/crimson/manager/crimson/tracer/example/script.py', lineno=31, event='return', arg=1, level=1, locals={}, custom=None),\n",
       " TraceEvent(function='lvl1', filename='/home/crimson/manager/crimson/tracer/example/script.py', lineno=20, event='line', arg=None, level=0, locals={}, custom=None),\n",
       " TraceEvent(function='lvl2_2', filename='/home/crimson/manager/crimson/tracer/example/script.py', lineno=34, event='call', arg=None, level=1, locals={}, custom=None),\n",
       " TraceEvent(function='lvl2_2', filename='/home/crimson/manager/crimson/tracer/example/script.py', lineno=38, event='line', arg=None, level=1, locals={}, custom=None),\n",
       " TraceEvent(function='lvl3_1', filename='/home/crimson/manager/crimson/tracer/example/script.py', lineno=48, event='call', arg=None, level=2, locals={'name': 'lvl2_2'}, custom=None),\n",
       " TraceEvent(function='lvl3_1', filename='/home/crimson/manager/crimson/tracer/example/script.py', lineno=49, event='line', arg=None, level=2, locals={}, custom=None),\n",
       " TraceEvent(function='lvl3_1', filename='/home/crimson/manager/crimson/tracer/example/script.py', lineno=49, event='return', arg=None, level=2, locals={}, custom=None),\n",
       " TraceEvent(function='lvl2_2', filename='/home/crimson/manager/crimson/tracer/example/script.py', lineno=40, event='line', arg=None, level=1, locals={}, custom=None),\n",
       " TraceEvent(function='lvl2_2', filename='/home/crimson/manager/crimson/tracer/example/script.py', lineno=42, event='line', arg=None, level=1, locals={}, custom=None),\n",
       " TraceEvent(function='lvl3_2', filename='/home/crimson/manager/crimson/tracer/example/script.py', lineno=51, event='call', arg=None, level=2, locals={'obj': <ObjectGenerator instance>}, custom=None),\n",
       " TraceEvent(function='lvl3_2', filename='/home/crimson/manager/crimson/tracer/example/script.py', lineno=52, event='line', arg=None, level=2, locals={}, custom=None),\n",
       " TraceEvent(function='lvl3_2', filename='/home/crimson/manager/crimson/tracer/example/script.py', lineno=52, event='return', arg=<ObjectGenerator instance>, level=2, locals={}, custom=None),\n",
       " TraceEvent(function='lvl2_2', filename='/home/crimson/manager/crimson/tracer/example/script.py', lineno=44, event='line', arg=None, level=1, locals={}, custom=None),\n",
       " TraceEvent(function='lvl2_2', filename='/home/crimson/manager/crimson/tracer/example/script.py', lineno=45, event='line', arg=None, level=1, locals={}, custom=None),\n",
       " TraceEvent(function='lvl2_2', filename='/home/crimson/manager/crimson/tracer/example/script.py', lineno=45, event='return', arg='return value with variable', level=1, locals={}, custom=None),\n",
       " TraceEvent(function='lvl1', filename='/home/crimson/manager/crimson/tracer/example/script.py', lineno=22, event='line', arg=None, level=0, locals={}, custom=None),\n",
       " TraceEvent(function='lvl3_1', filename='/home/crimson/manager/crimson/tracer/example/script.py', lineno=48, event='call', arg=None, level=1, locals={'name': 'root'}, custom=None),\n",
       " TraceEvent(function='lvl3_1', filename='/home/crimson/manager/crimson/tracer/example/script.py', lineno=49, event='line', arg=None, level=1, locals={}, custom=None),\n",
       " TraceEvent(function='lvl3_1', filename='/home/crimson/manager/crimson/tracer/example/script.py', lineno=49, event='return', arg=None, level=1, locals={}, custom=None),\n",
       " TraceEvent(function='lvl1', filename='/home/crimson/manager/crimson/tracer/example/script.py', lineno=22, event='return', arg=None, level=0, locals={}, custom=None)]"
      ]
     },
     "execution_count": 2,
     "metadata": {},
     "output_type": "execute_result"
    }
   ],
   "source": [
    "TraceManager.run_trace(lvl1)\n",
    "trace_result = TraceManager.get_trace(\"lvl1\")\n",
    "\n",
    "trace_result"
   ]
  },
  {
   "cell_type": "markdown",
   "metadata": {},
   "source": [
    "### With `frame_filter`\n"
   ]
  },
  {
   "cell_type": "code",
   "execution_count": 3,
   "metadata": {},
   "outputs": [
    {
     "name": "stdout",
     "output_type": "stream",
     "text": [
      "class FrameFilter:\n",
      "    \"\"\"\n",
      "    A class for filtering stack frames during tracing.\n",
      "\n",
      "    - If `include` is `None`, **all files are included**, and only `exclude` is applied.\n",
      "    - If `include` is set, only matching patterns are included, and then `exclude` is applied.\n",
      "\n",
      "    Args:\n",
      "        include (Optional[List[str]]): A list of filename patterns to include (e.g., `[\"src/\", \"lib/\"]`).\n",
      "            If `None`, all files are included.\n",
      "        exclude (Optional[List[str]]): A list of filename patterns to exclude (e.g., `[\"test/\", \"logs/\"]`).\n",
      "            If `None`, nothing is excluded.\n",
      "\n",
      "    Examples:\n",
      "        # 1. Include all files except specific patterns\n",
      "        filter_all = FrameFilter(exclude=[\"test/\", \"logs/\"])\n",
      "\n",
      "        # 2. Include only specific directories and exclude certain files\n",
      "        filter_specific = FrameFilter(include=[\"src/\", \"lib/\"], exclude=[\"logs/\"])\n",
      "\n",
      "        # 3. Exclude specific file patterns\n",
      "        filter_exclude_only = FrameFilter(exclude=[\"venv/\", \"test_\"])\n",
      "    \"\"\"\n",
      "\n",
      "    def __init__(self, include: Optional[List[str]] = None, exclude: Optional[List[str]] = None):\n",
      "        self.include = include  # If None, all files are included\n",
      "        self.exclude = exclude  # If None, nothing is excluded\n",
      "\n",
      "    def __call__(self, frame: FrameType) -> bool:\n",
      "        \"\"\"\n",
      "        Determines whether a given stack frame should be included based on filter conditions.\n",
      "\n",
      "        - If `include` is `None`, all files are allowed, and `exclude` is applied.\n",
      "        - If `include` is set, only files matching the patterns are allowed, and then `exclude` is applied.\n",
      "\n",
      "        Args:\n",
      "            frame (FrameType): The stack frame to check.\n",
      "\n",
      "        Returns:\n",
      "            bool: `True` if the frame should be included, `False` otherwise.\n",
      "        \"\"\"\n",
      "        filename = frame.f_code.co_filename\n",
      "\n",
      "        # 1. If include is set, allow only matching files\n",
      "        if self.include is not None and not any(path in filename for path in self.include):\n",
      "            return False\n",
      "\n",
      "        # 2. If exclude is set, filter out matching files\n",
      "        if self.exclude is not None and any(term in filename for term in self.exclude):\n",
      "            return False\n",
      "\n",
      "        return True\n",
      "\n"
     ]
    },
    {
     "data": {
      "text/plain": [
       "[TraceEvent(function='lvl1', filename='/home/crimson/manager/crimson/tracer/example/script.py', lineno=8, event='call', arg=None, level=0, locals={}, custom=None),\n",
       " TraceEvent(function='lvl1', filename='/home/crimson/manager/crimson/tracer/example/script.py', lineno=13, event='line', arg=None, level=0, locals={}, custom=None),\n",
       " TraceEvent(function='lvl1', filename='/home/crimson/manager/crimson/tracer/example/script.py', lineno=15, event='line', arg=None, level=0, locals={}, custom=None),\n",
       " TraceEvent(function='lvl2_1', filename='/home/crimson/manager/crimson/tracer/example/script.py', lineno=25, event='call', arg=None, level=1, locals={}, custom=None),\n",
       " TraceEvent(function='lvl2_1', filename='/home/crimson/manager/crimson/tracer/example/script.py', lineno=31, event='line', arg=None, level=1, locals={}, custom=None),\n",
       " TraceEvent(function='lvl2_1', filename='/home/crimson/manager/crimson/tracer/example/script.py', lineno=31, event='return', arg=1, level=1, locals={}, custom=None),\n",
       " TraceEvent(function='lvl1', filename='/home/crimson/manager/crimson/tracer/example/script.py', lineno=20, event='line', arg=None, level=0, locals={}, custom=None),\n",
       " TraceEvent(function='lvl2_2', filename='/home/crimson/manager/crimson/tracer/example/script.py', lineno=34, event='call', arg=None, level=1, locals={}, custom=None),\n",
       " TraceEvent(function='lvl2_2', filename='/home/crimson/manager/crimson/tracer/example/script.py', lineno=38, event='line', arg=None, level=1, locals={}, custom=None),\n",
       " TraceEvent(function='lvl3_1', filename='/home/crimson/manager/crimson/tracer/example/script.py', lineno=48, event='call', arg=None, level=2, locals={'name': 'lvl2_2'}, custom=None),\n",
       " TraceEvent(function='lvl3_1', filename='/home/crimson/manager/crimson/tracer/example/script.py', lineno=49, event='line', arg=None, level=2, locals={}, custom=None),\n",
       " TraceEvent(function='lvl3_1', filename='/home/crimson/manager/crimson/tracer/example/script.py', lineno=49, event='return', arg=None, level=2, locals={}, custom=None),\n",
       " TraceEvent(function='lvl2_2', filename='/home/crimson/manager/crimson/tracer/example/script.py', lineno=40, event='line', arg=None, level=1, locals={}, custom=None),\n",
       " TraceEvent(function='lvl2_2', filename='/home/crimson/manager/crimson/tracer/example/script.py', lineno=42, event='line', arg=None, level=1, locals={}, custom=None),\n",
       " TraceEvent(function='lvl3_2', filename='/home/crimson/manager/crimson/tracer/example/script.py', lineno=51, event='call', arg=None, level=2, locals={'obj': <ObjectGenerator instance>}, custom=None),\n",
       " TraceEvent(function='lvl3_2', filename='/home/crimson/manager/crimson/tracer/example/script.py', lineno=52, event='line', arg=None, level=2, locals={}, custom=None),\n",
       " TraceEvent(function='lvl3_2', filename='/home/crimson/manager/crimson/tracer/example/script.py', lineno=52, event='return', arg=<ObjectGenerator instance>, level=2, locals={}, custom=None),\n",
       " TraceEvent(function='lvl2_2', filename='/home/crimson/manager/crimson/tracer/example/script.py', lineno=44, event='line', arg=None, level=1, locals={}, custom=None),\n",
       " TraceEvent(function='lvl2_2', filename='/home/crimson/manager/crimson/tracer/example/script.py', lineno=45, event='line', arg=None, level=1, locals={}, custom=None),\n",
       " TraceEvent(function='lvl2_2', filename='/home/crimson/manager/crimson/tracer/example/script.py', lineno=45, event='return', arg='return value with variable', level=1, locals={}, custom=None),\n",
       " TraceEvent(function='lvl1', filename='/home/crimson/manager/crimson/tracer/example/script.py', lineno=22, event='line', arg=None, level=0, locals={}, custom=None),\n",
       " TraceEvent(function='lvl3_1', filename='/home/crimson/manager/crimson/tracer/example/script.py', lineno=48, event='call', arg=None, level=1, locals={'name': 'root'}, custom=None),\n",
       " TraceEvent(function='lvl3_1', filename='/home/crimson/manager/crimson/tracer/example/script.py', lineno=49, event='line', arg=None, level=1, locals={}, custom=None),\n",
       " TraceEvent(function='lvl3_1', filename='/home/crimson/manager/crimson/tracer/example/script.py', lineno=49, event='return', arg=None, level=1, locals={}, custom=None),\n",
       " TraceEvent(function='lvl1', filename='/home/crimson/manager/crimson/tracer/example/script.py', lineno=22, event='return', arg=None, level=0, locals={}, custom=None)]"
      ]
     },
     "execution_count": 3,
     "metadata": {},
     "output_type": "execute_result"
    }
   ],
   "source": [
    "frame_filter = FrameFilter(\n",
    "    exclude=[\"python3\", \"site-packages\"]\n",
    ")\n",
    "\n",
    "print(getsource(FrameFilter))\n",
    "TraceManager.set_frame_filter(frame_filter)\n",
    "\n",
    "TraceManager.run_trace(lvl1)\n",
    "trace_result = TraceManager.get_trace(\"lvl1\")\n",
    "\n",
    "trace_result\n"
   ]
  },
  {
   "cell_type": "markdown",
   "metadata": {},
   "source": [
    "### With `name`\n",
    "\n",
    "if `name` is `None`, the name of the func is used instead"
   ]
  },
  {
   "cell_type": "code",
   "execution_count": 4,
   "metadata": {},
   "outputs": [
    {
     "data": {
      "text/plain": [
       "dict_keys(['lvl1', 'custom name'])"
      ]
     },
     "execution_count": 4,
     "metadata": {},
     "output_type": "execute_result"
    }
   ],
   "source": [
    "TraceManager.run_trace(func = lvl1, name = 'custom name')\n",
    "TraceManager.traces.keys()"
   ]
  },
  {
   "cell_type": "markdown",
   "metadata": {},
   "source": [
    "### Edit Trace Event\n",
    "\n",
    "All the available arguments in the tracked functions are stored as `locals`. <br/>\n",
    "It can cause the `out of memory`. <br/>\n",
    "To deal with this issue, set `event_editor`.\n",
    "\n",
    "To annotate the `TraceEvent.custom` field, set `custom_type`.\n"
   ]
  },
  {
   "cell_type": "code",
   "execution_count": 5,
   "metadata": {},
   "outputs": [
    {
     "data": {
      "text/plain": [
       "[TraceEvent(function='lvl1', filename='/home/crimson/manager/crimson/tracer/example/script.py', lineno=8, event='call', arg=None, level=0, locals={}, custom=0),\n",
       " TraceEvent(function='lvl1', filename='/home/crimson/manager/crimson/tracer/example/script.py', lineno=13, event='line', arg=None, level=0, locals={}, custom=0),\n",
       " TraceEvent(function='__init__', filename='/home/crimson/miniconda3/envs/tracer/lib/python3.12/site-packages/anytree/node/node.py', lineno=74, event='call', arg=None, level=1, locals={}, custom=5),\n",
       " TraceEvent(function='__init__', filename='/home/crimson/miniconda3/envs/tracer/lib/python3.12/site-packages/anytree/node/node.py', lineno=75, event='line', arg=None, level=1, locals={}, custom=0),\n",
       " TraceEvent(function='__init__', filename='/home/crimson/miniconda3/envs/tracer/lib/python3.12/site-packages/anytree/node/node.py', lineno=76, event='line', arg=None, level=1, locals={}, custom=0),\n",
       " TraceEvent(function='__init__', filename='/home/crimson/miniconda3/envs/tracer/lib/python3.12/site-packages/anytree/node/node.py', lineno=77, event='line', arg=None, level=1, locals={}, custom=0),\n",
       " TraceEvent(function='parent', filename='/home/crimson/miniconda3/envs/tracer/lib/python3.12/site-packages/anytree/node/nodemixin.py', lineno=123, event='call', arg=None, level=2, locals={}, custom=2),\n",
       " TraceEvent(function='parent', filename='/home/crimson/miniconda3/envs/tracer/lib/python3.12/site-packages/anytree/node/nodemixin.py', lineno=125, event='line', arg=None, level=2, locals={}, custom=0),\n",
       " TraceEvent(function='parent', filename='/home/crimson/miniconda3/envs/tracer/lib/python3.12/site-packages/anytree/node/nodemixin.py', lineno=128, event='line', arg=None, level=2, locals={}, custom=0),\n",
       " TraceEvent(function='parent', filename='/home/crimson/miniconda3/envs/tracer/lib/python3.12/site-packages/anytree/node/nodemixin.py', lineno=131, event='line', arg=None, level=2, locals={}, custom=0),\n",
       " TraceEvent(function='parent', filename='/home/crimson/miniconda3/envs/tracer/lib/python3.12/site-packages/anytree/node/nodemixin.py', lineno=132, event='line', arg=None, level=2, locals={}, custom=0),\n",
       " TraceEvent(function='parent', filename='/home/crimson/miniconda3/envs/tracer/lib/python3.12/site-packages/anytree/node/nodemixin.py', lineno=132, event='return', arg=None, level=2, locals={}, custom=0),\n",
       " TraceEvent(function='__init__', filename='/home/crimson/miniconda3/envs/tracer/lib/python3.12/site-packages/anytree/node/node.py', lineno=78, event='line', arg=None, level=1, locals={}, custom=0),\n",
       " TraceEvent(function='__init__', filename='/home/crimson/miniconda3/envs/tracer/lib/python3.12/site-packages/anytree/node/node.py', lineno=78, event='return', arg=None, level=1, locals={}, custom=0),\n",
       " TraceEvent(function='lvl1', filename='/home/crimson/manager/crimson/tracer/example/script.py', lineno=15, event='line', arg=None, level=0, locals={}, custom=0),\n",
       " TraceEvent(function='lvl2_1', filename='/home/crimson/manager/crimson/tracer/example/script.py', lineno=25, event='call', arg=None, level=1, locals={}, custom=0),\n",
       " TraceEvent(function='lvl2_1', filename='/home/crimson/manager/crimson/tracer/example/script.py', lineno=31, event='line', arg=None, level=1, locals={}, custom=0),\n",
       " TraceEvent(function='lvl2_1', filename='/home/crimson/manager/crimson/tracer/example/script.py', lineno=31, event='return', arg=1, level=1, locals={}, custom=0),\n",
       " TraceEvent(function='lvl1', filename='/home/crimson/manager/crimson/tracer/example/script.py', lineno=20, event='line', arg=None, level=0, locals={}, custom=0),\n",
       " TraceEvent(function='lvl2_2', filename='/home/crimson/manager/crimson/tracer/example/script.py', lineno=34, event='call', arg=None, level=1, locals={}, custom=0),\n",
       " TraceEvent(function='lvl2_2', filename='/home/crimson/manager/crimson/tracer/example/script.py', lineno=38, event='line', arg=None, level=1, locals={}, custom=0),\n",
       " TraceEvent(function='lvl3_1', filename='/home/crimson/manager/crimson/tracer/example/script.py', lineno=48, event='call', arg=None, level=2, locals={}, custom=1),\n",
       " TraceEvent(function='lvl3_1', filename='/home/crimson/manager/crimson/tracer/example/script.py', lineno=49, event='line', arg=None, level=2, locals={}, custom=0),\n",
       " TraceEvent(function='lvl3_1', filename='/home/crimson/manager/crimson/tracer/example/script.py', lineno=49, event='return', arg=None, level=2, locals={}, custom=0),\n",
       " TraceEvent(function='lvl2_2', filename='/home/crimson/manager/crimson/tracer/example/script.py', lineno=40, event='line', arg=None, level=1, locals={}, custom=0),\n",
       " TraceEvent(function='lvl2_2', filename='/home/crimson/manager/crimson/tracer/example/script.py', lineno=42, event='line', arg=None, level=1, locals={}, custom=0),\n",
       " TraceEvent(function='lvl3_2', filename='/home/crimson/manager/crimson/tracer/example/script.py', lineno=51, event='call', arg=None, level=2, locals={}, custom=1),\n",
       " TraceEvent(function='lvl3_2', filename='/home/crimson/manager/crimson/tracer/example/script.py', lineno=52, event='line', arg=None, level=2, locals={}, custom=0),\n",
       " TraceEvent(function='lvl3_2', filename='/home/crimson/manager/crimson/tracer/example/script.py', lineno=52, event='return', arg=<ObjectGenerator instance>, level=2, locals={}, custom=0),\n",
       " TraceEvent(function='lvl2_2', filename='/home/crimson/manager/crimson/tracer/example/script.py', lineno=44, event='line', arg=None, level=1, locals={}, custom=0),\n",
       " TraceEvent(function='lvl2_2', filename='/home/crimson/manager/crimson/tracer/example/script.py', lineno=45, event='line', arg=None, level=1, locals={}, custom=0),\n",
       " TraceEvent(function='lvl2_2', filename='/home/crimson/manager/crimson/tracer/example/script.py', lineno=45, event='return', arg='return value with variable', level=1, locals={}, custom=0),\n",
       " TraceEvent(function='lvl1', filename='/home/crimson/manager/crimson/tracer/example/script.py', lineno=22, event='line', arg=None, level=0, locals={}, custom=0),\n",
       " TraceEvent(function='lvl3_1', filename='/home/crimson/manager/crimson/tracer/example/script.py', lineno=48, event='call', arg=None, level=1, locals={}, custom=1),\n",
       " TraceEvent(function='lvl3_1', filename='/home/crimson/manager/crimson/tracer/example/script.py', lineno=49, event='line', arg=None, level=1, locals={}, custom=0),\n",
       " TraceEvent(function='lvl3_1', filename='/home/crimson/manager/crimson/tracer/example/script.py', lineno=49, event='return', arg=None, level=1, locals={}, custom=0),\n",
       " TraceEvent(function='lvl1', filename='/home/crimson/manager/crimson/tracer/example/script.py', lineno=22, event='return', arg=None, level=0, locals={}, custom=0)]"
      ]
     },
     "execution_count": 5,
     "metadata": {},
     "output_type": "execute_result"
    }
   ],
   "source": [
    "def event_editor(trace_event: TraceEvent) -> TraceEvent:\n",
    "    trace_event.custom = len(trace_event.locals)\n",
    "    trace_event.locals = {}\n",
    "\n",
    "    return trace_event\n",
    "\n",
    "def frame_filter_dummy(frame):\n",
    "    return True\n",
    "\n",
    "TraceManager.set_event_editor(event_editor=event_editor)\n",
    "TraceManager.set_frame_filter(frame_filter_dummy)\n",
    "\n",
    "TraceManager.run_trace(func = lvl1, name = 'lighter locals')\n",
    "trace_result = TraceManager.get_trace('lighter locals', custom_type=int)\n",
    "trace_result"
   ]
  },
  {
   "cell_type": "markdown",
   "metadata": {},
   "source": [
    "IDE knows the type of `TraceEvent.custom`.\n",
    "\n",
    "<!--StartFragment--><div style=\"color: #cccccc;background-color: #1f1f1f;font-family: Consolas, 'Courier New', monospace;font-weight: normal;font-size: 14px;line-height: 19px;white-space: pre;\"><div><span style=\"color: #9cdcfe;\">trace_result</span><span style=\"color: #cccccc;\">[</span><span style=\"color: #b5cea8;\">0</span><span style=\"color: #cccccc;\">].</span><span style=\"color: #9cdcfe;\">custom</span><span style=\"color: #cccccc;\">.</span><span style=\"color: #9cdcfe;\">imag</span></div></div><!--EndFragment-->\n"
   ]
  }
 ],
 "metadata": {
  "kernelspec": {
   "display_name": "tracer",
   "language": "python",
   "name": "python3"
  },
  "language_info": {
   "codemirror_mode": {
    "name": "ipython",
    "version": 3
   },
   "file_extension": ".py",
   "mimetype": "text/x-python",
   "name": "python",
   "nbconvert_exporter": "python",
   "pygments_lexer": "ipython3",
   "version": "3.12.9"
  }
 },
 "nbformat": 4,
 "nbformat_minor": 2
}
